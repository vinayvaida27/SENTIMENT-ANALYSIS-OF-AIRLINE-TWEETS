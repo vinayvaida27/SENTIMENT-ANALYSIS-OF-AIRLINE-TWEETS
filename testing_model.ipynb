{
 "cells": [
  {
   "cell_type": "code",
   "execution_count": 1,
   "id": "0d475cf4",
   "metadata": {},
   "outputs": [],
   "source": [
    "import tkinter as tk\n",
    "from tkinter import messagebox\n",
    "import pickle\n",
    "import nltk\n",
    "from nltk.corpus import stopwords\n",
    "from nltk.stem import WordNetLemmatizer\n",
    "from sklearn.feature_extraction.text import TfidfVectorizer\n",
    "from PIL import Image, ImageTk\n",
    "import re"
   ]
  },
  {
   "cell_type": "code",
   "execution_count": 2,
   "id": "e90654c4",
   "metadata": {},
   "outputs": [],
   "source": [
    "# adding path for Model and Vectorizer\n",
    "model_path = r'C:\\Users\\RoHITh\\Desktop\\ML Project\\stacking_ensemble_model.pkl'\n",
    "vectorizer_path = r'C:\\Users\\RoHITh\\Desktop\\ML Project\\tfidf_vectorizer_final.pkl'\n",
    "\n",
    "# Loading the ensemble model\n",
    "with open(model_path, 'rb') as file:\n",
    "    ensemble_model = pickle.load(file)\n",
    "\n",
    "# Loading the vectorizer\n",
    "with open(vectorizer_path, 'rb') as file:\n",
    "    tfidf_vectorizer = pickle.load(file)\n",
    "\n"
   ]
  },
  {
   "cell_type": "code",
   "execution_count": 3,
   "id": "85fd243c",
   "metadata": {},
   "outputs": [],
   "source": [
    "# Preprocess Function\n",
    "def preprocess_text(text):\n",
    "    text = text.lower()\n",
    "    text = re.sub(r'[^a-zA-Z\\s]', '', text, re.I|re.A)\n",
    "    tokens = nltk.word_tokenize(text)\n",
    "    stop_words = set(stopwords.words('english'))\n",
    "    tokens = [token for token in tokens if token not in stop_words]\n",
    "    lemmatizer = WordNetLemmatizer()\n",
    "    tokens = [lemmatizer.lemmatize(token) for token in tokens]\n",
    "    return ' '.join(tokens)\n",
    "\n",
    "def predict_sentiment():\n",
    "    input_text = text_input.get(\"1.0\", \"end-1c\")\n",
    "    processed_text = preprocess_text(input_text)\n",
    "    vectorized_text = tfidf_vectorizer.transform([processed_text])\n",
    "    prediction = ensemble_model.predict(vectorized_text)\n",
    "    sentiment_mapping = {0: 'Negative', 1: 'Neutral', 2: 'Positive'}\n",
    "    messagebox.showinfo(\"Predicted Sentiment\", sentiment_mapping[prediction[0]])\n"
   ]
  },
  {
   "cell_type": "code",
   "execution_count": null,
   "id": "1e47fec9",
   "metadata": {},
   "outputs": [],
   "source": [
    "# Setting up the Tkinter window\n",
    "window = tk.Tk()\n",
    "window.title(\"ENHANCING SENTIMENT ANALYSIS OF AIRLINE TWEETS THROUGH HYBRID MACHINE LEARNING MODELS\")\n",
    "window.geometry(\"800x600\")\n",
    "\n",
    "# Loading and setting the background image using PIL\n",
    "background_image_path = r'C:\\Users\\RoHITh\\Desktop\\ML Project\\team8project.png'\n",
    "image = Image.open(background_image_path)\n",
    "window.background_image = ImageTk.PhotoImage(image)  # Keep a reference to the image\n",
    "background_label = tk.Label(window, image=window.background_image)\n",
    "background_label.place(relwidth=1, relheight=1)\n",
    "\n",
    "# Creating the title label\n",
    "title_label = tk.Label(window, text=\"ENHANCING SENTIMENT ANALYSIS OF AIRLINE TWEETS\\nTHROUGH HYBRID MACHINE LEARNING MODELS -TEAM 8\",\n",
    "                       font=(\"Helvetica\", 16), bg='light blue')\n",
    "title_label.pack(pady=20)\n",
    "\n",
    "# Creating a text input box\n",
    "text_input = tk.Text(window, height=5, width=40)\n",
    "text_input.pack(pady=10)\n",
    "\n",
    "# Creating a button to trigger sentiment analysis\n",
    "predict_button = tk.Button(window, text=\"Analyze Sentiment\", command=predict_sentiment)\n",
    "predict_button.pack(pady=10)\n",
    "\n",
    "# Running the application\n",
    "window.mainloop()\n"
   ]
  },
  {
   "cell_type": "code",
   "execution_count": null,
   "id": "06243efa",
   "metadata": {},
   "outputs": [],
   "source": []
  }
 ],
 "metadata": {
  "kernelspec": {
   "display_name": "Python 3 (ipykernel)",
   "language": "python",
   "name": "python3"
  },
  "language_info": {
   "codemirror_mode": {
    "name": "ipython",
    "version": 3
   },
   "file_extension": ".py",
   "mimetype": "text/x-python",
   "name": "python",
   "nbconvert_exporter": "python",
   "pygments_lexer": "ipython3",
   "version": "3.11.5"
  }
 },
 "nbformat": 4,
 "nbformat_minor": 5
}
